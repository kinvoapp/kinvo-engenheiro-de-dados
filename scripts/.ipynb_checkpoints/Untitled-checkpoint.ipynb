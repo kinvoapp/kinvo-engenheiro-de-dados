{
 "cells": [
  {
   "cell_type": "code",
   "execution_count": null,
   "metadata": {},
   "outputs": [],
   "source": [
    "# !pip install Spacy\n",
    "# !python -m spacy download pt_core_news_lg"
   ]
  },
  {
   "cell_type": "code",
   "execution_count": null,
   "metadata": {
    "ExecuteTime": {
     "end_time": "2021-08-01T14:34:37.061315Z",
     "start_time": "2021-08-01T14:34:34.262016Z"
    },
    "scrolled": true
   },
   "outputs": [],
   "source": [
    "!pip list"
   ]
  },
  {
   "cell_type": "code",
   "execution_count": null,
   "metadata": {
    "ExecuteTime": {
     "end_time": "2021-07-31T17:46:27.962599Z",
     "start_time": "2021-07-31T17:46:27.935673Z"
    }
   },
   "outputs": [],
   "source": [
    "os.listdir(\"kinvo-ia-test/scripts\")"
   ]
  },
  {
   "cell_type": "code",
   "execution_count": null,
   "metadata": {
    "ExecuteTime": {
     "end_time": "2021-08-03T13:19:43.916031Z",
     "start_time": "2021-08-03T13:19:43.559964Z"
    }
   },
   "outputs": [],
   "source": [
    "import spacy\n",
    "from spacy import displacy\n",
    "import pandas as pd\n",
    "import os"
   ]
  },
  {
   "cell_type": "code",
   "execution_count": null,
   "metadata": {
    "ExecuteTime": {
     "end_time": "2021-08-03T13:19:45.476786Z",
     "start_time": "2021-08-03T13:19:44.324963Z"
    }
   },
   "outputs": [],
   "source": [
    "df = pd.read_csv(\"kinvo-ia-test/scripts/teste5.csv\")"
   ]
  },
  {
   "cell_type": "code",
   "execution_count": null,
   "metadata": {
    "ExecuteTime": {
     "end_time": "2021-08-03T13:19:45.722524Z",
     "start_time": "2021-08-03T13:19:45.618330Z"
    }
   },
   "outputs": [],
   "source": [
    "df.dropna(inplace=True)"
   ]
  },
  {
   "cell_type": "code",
   "execution_count": null,
   "metadata": {
    "ExecuteTime": {
     "end_time": "2021-08-03T13:20:08.640912Z",
     "start_time": "2021-08-03T13:19:45.926561Z"
    }
   },
   "outputs": [],
   "source": [
    "nlp = spacy.load('pt_core_news_sm')\n",
    "ner = nlp.get_pipe(\"ner\")"
   ]
  },
  {
   "cell_type": "code",
   "execution_count": null,
   "metadata": {
    "ExecuteTime": {
     "end_time": "2021-08-03T13:20:08.766128Z",
     "start_time": "2021-08-03T13:20:08.705739Z"
    }
   },
   "outputs": [],
   "source": [
    "df['noticia'].iloc[3]"
   ]
  },
  {
   "cell_type": "code",
   "execution_count": null,
   "metadata": {
    "ExecuteTime": {
     "end_time": "2021-08-03T13:20:08.857876Z",
     "start_time": "2021-08-03T13:20:08.836935Z"
    }
   },
   "outputs": [],
   "source": [
    "nlp.disable_pipes(['morphologizer', 'parser', 'attribute_ruler', 'lemmatizer', \"tok2vec\"])\n",
    "nlp.pipe_names"
   ]
  },
  {
   "cell_type": "code",
   "execution_count": null,
   "metadata": {
    "ExecuteTime": {
     "end_time": "2021-08-03T13:20:08.968234Z",
     "start_time": "2021-08-03T13:20:08.937274Z"
    }
   },
   "outputs": [],
   "source": [
    "TRAIN_DATA = [\n",
    "              (\"Publicado às 15h50\", {\"entities\": [(13, 18, \"DATA\")]}),\n",
    "              (\"Às 8h16 tinha queda de\", {\"entities\": [(3, 7, \"DATA\")]}),\n",
    "              (\"contrato com vencimento para 14 de agosto/20\", {\"entities\": [(29, 44, \"DATA\")]}),\n",
    "              (\"Publicado às 12h13 A Alpargatas\", {\"entities\": [(13, 18, \"DATA\"), (21, 31, \"ORG\")]}),\n",
    "              (\"31 de julho, o resultado do\", {\"entities\": [(0, 11, \"DATA\")]}),\n",
    "             (\"10 de agosto, foi o dia de\", {\"entities\": [(0, 12, \"DATA\")]}),\n",
    "             (\"às 8h15  Usiminas reporta lucro líquido\", {\"entities\": [(3, 7, \"DATA\"), (9, 17, \"ORG\")]}),\n",
    "             (\"nesta sexta-feira, 30, os resultados do\", {\"entities\": [(6, 17, \"DATA\")]}),\n",
    "             (\"receita líquida trimestral da Usiminas, com alta\", {\"entities\": [(30, 38, \"ORG\")]}),\n",
    "             (\"lucro líquido de R$ 1,2 bilhões. A Usiminas (USIM2) divulgou nesta sexta-feira\", {\"entities\": [(17, 31, \"MONEY\"), (35, 43, \"ORG\"), (67, 78, \"DATA\"), (45,50, \"COD\") ]}),\n",
    "             (\"a companhia registrou lucro líquido de R$ 7,1 bilhões, 277% superior\", {\"entities\": [(39, 53, \"MONEY\")]}),\n",
    "             (\"representando o maior lucro líquido trimestral da Usiminas\", {\"entities\": [(50, 58, \"ORG\")]}),\n",
    "            (\"os investimentos totais da Usiminas, que permanecem em R$111 milhões e R$9.100 milhões, respectivamente\", {\"entities\": [(27, 35, \"ORG\"), (55, 68, \"MONEY\"), (71, 86, \"MONEY\")]}),\n",
    "            (\"A Ambipar Participações e Empreendimentos (AMBP1) informou\", {\"entities\": [(2, 41, \"ORG\"), (43, 48, \"COD\")]}),\n",
    "            (\"A Méliuz (CASH7) informou\", {\"entities\": [(2, 8, \"ORG\"),(10, 15, \"COD\")]}),\n",
    "            (\"A Alter, que possui um time de 24 pessoas\", {\"entities\": [(2, 7, \"ORG\")]}),\n",
    "            (\"primeiro semestre de 2020 um volume de R$ 124 milhões em negociações\", {\"entities\": [(21, 25, \"DATA\"),(39, 53, \"MONEY\")]}),\n",
    "            (\"A Alter é uma empresa\", {\"entities\": [(2, 7, \"ORG\")]}),\n",
    "            (\"contrato com os sócios da Alter Pagamentos para comprar\", {\"entities\": [(26, 31, \"ORG\")]})\n",
    "]"
   ]
  },
  {
   "cell_type": "code",
   "execution_count": null,
   "metadata": {
    "ExecuteTime": {
     "end_time": "2021-08-03T13:20:09.057840Z",
     "start_time": "2021-08-03T13:20:09.027920Z"
    }
   },
   "outputs": [],
   "source": [
    "\"Publicado às 12h13 A Alpargatas\"[21:31]"
   ]
  },
  {
   "cell_type": "code",
   "execution_count": null,
   "metadata": {
    "ExecuteTime": {
     "end_time": "2021-08-03T13:20:09.134636Z",
     "start_time": "2021-08-03T13:20:09.123663Z"
    }
   },
   "outputs": [],
   "source": [
    "for _, annotations in TRAIN_DATA:\n",
    "    for ent in annotations.get(\"entities\"):\n",
    "        ner.add_label(ent[2])"
   ]
  },
  {
   "cell_type": "code",
   "execution_count": null,
   "metadata": {
    "ExecuteTime": {
     "end_time": "2021-08-03T13:21:57.996744Z",
     "start_time": "2021-08-03T13:20:09.204447Z"
    },
    "code_folding": []
   },
   "outputs": [],
   "source": [
    "from spacy.training.example import Example\n",
    "import random\n",
    "\n",
    "for iteration in range(70):\n",
    "\n",
    "    random.shuffle(TRAIN_DATA)\n",
    "    losses = {}\n",
    "    for batch in spacy.util.minibatch(TRAIN_DATA, size=3):\n",
    "        \n",
    "\n",
    "        for text, annotations in batch:\n",
    "            \n",
    "            doc = nlp.make_doc(text)\n",
    "            example = Example.from_dict(doc, annotations)\n",
    "\n",
    "            # atualizando o modelo \n",
    "            nlp.update([example], losses=losses, drop=0.8)\n"
   ]
  },
  {
   "cell_type": "code",
   "execution_count": null,
   "metadata": {
    "ExecuteTime": {
     "end_time": "2021-08-03T13:21:58.090494Z",
     "start_time": "2021-08-03T13:21:58.047610Z"
    }
   },
   "outputs": [],
   "source": [
    "texto = nlp('desta sexta-feira, 30 de julho, o resultado do')\n",
    "displacy.render(texto, style='ent', jupyter=True)"
   ]
  },
  {
   "cell_type": "code",
   "execution_count": null,
   "metadata": {
    "ExecuteTime": {
     "end_time": "2021-08-03T13:21:58.229635Z",
     "start_time": "2021-08-03T13:21:58.147343Z"
    }
   },
   "outputs": [],
   "source": [
    "noticia1 = df['noticia'].iloc[6].split(\"Whatsapp\")[0].strip()\n",
    "texto = nlp(noticia1)\n",
    "displacy.render(texto, style='ent', jupyter=True)"
   ]
  },
  {
   "cell_type": "code",
   "execution_count": null,
   "metadata": {
    "ExecuteTime": {
     "end_time": "2021-08-03T13:28:12.250630Z",
     "start_time": "2021-08-03T13:28:12.232679Z"
    }
   },
   "outputs": [],
   "source": [
    "entidades_noticia = list()\n",
    "for entidade in texto.ents:\n",
    "    t = f\"trexo: {entidade.text}, entidade: {entidade.label_}\"\n",
    "    entidades_noticia.append(t)\n",
    "print(entidades_noticia)"
   ]
  },
  {
   "cell_type": "code",
   "execution_count": null,
   "metadata": {
    "ExecuteTime": {
     "end_time": "2021-08-03T13:21:58.323893Z",
     "start_time": "2021-08-03T13:21:58.300444Z"
    }
   },
   "outputs": [],
   "source": [
    "len(df['noticia'].iloc[1].split(\"Whatsapp\")[0].strip())"
   ]
  },
  {
   "cell_type": "code",
   "execution_count": null,
   "metadata": {},
   "outputs": [],
   "source": []
  },
  {
   "cell_type": "code",
   "execution_count": null,
   "metadata": {},
   "outputs": [],
   "source": []
  },
  {
   "cell_type": "code",
   "execution_count": 1,
   "metadata": {
    "ExecuteTime": {
     "end_time": "2021-08-03T13:34:34.134459Z",
     "start_time": "2021-08-03T13:34:31.501781Z"
    }
   },
   "outputs": [],
   "source": [
    "from extrair import noticias"
   ]
  },
  {
   "cell_type": "code",
   "execution_count": null,
   "metadata": {},
   "outputs": [],
   "source": []
  },
  {
   "cell_type": "code",
   "execution_count": null,
   "metadata": {},
   "outputs": [],
   "source": []
  },
  {
   "cell_type": "code",
   "execution_count": null,
   "metadata": {},
   "outputs": [],
   "source": []
  }
 ],
 "metadata": {
  "hide_input": false,
  "kernelspec": {
   "display_name": "Python 3",
   "language": "python",
   "name": "python3"
  },
  "language_info": {
   "codemirror_mode": {
    "name": "ipython",
    "version": 3
   },
   "file_extension": ".py",
   "mimetype": "text/x-python",
   "name": "python",
   "nbconvert_exporter": "python",
   "pygments_lexer": "ipython3",
   "version": "3.8.5"
  },
  "varInspector": {
   "cols": {
    "lenName": 16,
    "lenType": 16,
    "lenVar": 40
   },
   "kernels_config": {
    "python": {
     "delete_cmd_postfix": "",
     "delete_cmd_prefix": "del ",
     "library": "var_list.py",
     "varRefreshCmd": "print(var_dic_list())"
    },
    "r": {
     "delete_cmd_postfix": ") ",
     "delete_cmd_prefix": "rm(",
     "library": "var_list.r",
     "varRefreshCmd": "cat(var_dic_list()) "
    }
   },
   "types_to_exclude": [
    "module",
    "function",
    "builtin_function_or_method",
    "instance",
    "_Feature"
   ],
   "window_display": false
  }
 },
 "nbformat": 4,
 "nbformat_minor": 4
}
