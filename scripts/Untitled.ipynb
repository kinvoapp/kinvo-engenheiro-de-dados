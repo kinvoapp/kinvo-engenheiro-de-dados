{
 "cells": [
  {
   "cell_type": "code",
   "execution_count": null,
   "metadata": {},
   "outputs": [],
   "source": [
    "# !pip install Spacy\n",
    "# !python -m spacy download pt_core_news_lg"
   ]
  },
  {
   "cell_type": "code",
   "execution_count": null,
   "metadata": {
    "ExecuteTime": {
     "end_time": "2021-08-01T14:34:37.061315Z",
     "start_time": "2021-08-01T14:34:34.262016Z"
    },
    "scrolled": true
   },
   "outputs": [],
   "source": [
    "!pip list"
   ]
  },
  {
   "cell_type": "code",
   "execution_count": null,
   "metadata": {
    "ExecuteTime": {
     "end_time": "2021-07-31T17:46:27.962599Z",
     "start_time": "2021-07-31T17:46:27.935673Z"
    }
   },
   "outputs": [],
   "source": [
    "os.listdir(\"kinvo-ia-test/scripts\")"
   ]
  },
  {
   "cell_type": "code",
   "execution_count": null,
   "metadata": {
    "ExecuteTime": {
     "end_time": "2021-08-03T13:19:43.916031Z",
     "start_time": "2021-08-03T13:19:43.559964Z"
    }
   },
   "outputs": [],
   "source": [
    "import spacy\n",
    "from spacy import displacy\n",
    "import pandas as pd\n",
    "import os"
   ]
  },
  {
   "cell_type": "code",
   "execution_count": null,
   "metadata": {
    "ExecuteTime": {
     "end_time": "2021-08-03T13:19:45.476786Z",
     "start_time": "2021-08-03T13:19:44.324963Z"
    }
   },
   "outputs": [],
   "source": [
    "df = pd.read_csv(\"kinvo-ia-test/scripts/teste5.csv\")"
   ]
  },
  {
   "cell_type": "code",
   "execution_count": null,
   "metadata": {
    "ExecuteTime": {
     "end_time": "2021-08-03T13:19:45.722524Z",
     "start_time": "2021-08-03T13:19:45.618330Z"
    }
   },
   "outputs": [],
   "source": [
    "df.dropna(inplace=True)"
   ]
  },
  {
   "cell_type": "code",
   "execution_count": null,
   "metadata": {
    "ExecuteTime": {
     "end_time": "2021-08-03T13:20:08.640912Z",
     "start_time": "2021-08-03T13:19:45.926561Z"
    }
   },
   "outputs": [],
   "source": [
    "nlp = spacy.load('pt_core_news_sm')\n",
    "ner = nlp.get_pipe(\"ner\")"
   ]
  },
  {
   "cell_type": "code",
   "execution_count": null,
   "metadata": {
    "ExecuteTime": {
     "end_time": "2021-08-03T13:20:08.766128Z",
     "start_time": "2021-08-03T13:20:08.705739Z"
    }
   },
   "outputs": [],
   "source": [
    "df['noticia'].iloc[3]"
   ]
  },
  {
   "cell_type": "code",
   "execution_count": null,
   "metadata": {
    "ExecuteTime": {
     "end_time": "2021-08-03T13:20:08.857876Z",
     "start_time": "2021-08-03T13:20:08.836935Z"
    }
   },
   "outputs": [],
   "source": [
    "nlp.disable_pipes(['morphologizer', 'parser', 'attribute_ruler', 'lemmatizer', \"tok2vec\"])\n",
    "nlp.pipe_names"
   ]
  },
  {
   "cell_type": "code",
   "execution_count": null,
   "metadata": {
    "ExecuteTime": {
     "end_time": "2021-08-03T13:20:08.968234Z",
     "start_time": "2021-08-03T13:20:08.937274Z"
    }
   },
   "outputs": [],
   "source": [
    "TRAIN_DATA = [\n",
    "              (\"Publicado às 15h50\", {\"entities\": [(13, 18, \"DATA\")]}),\n",
    "              (\"Às 8h16 tinha queda de\", {\"entities\": [(3, 7, \"DATA\")]}),\n",
    "              (\"contrato com vencimento para 14 de agosto/20\", {\"entities\": [(29, 44, \"DATA\")]}),\n",
    "              (\"Publicado às 12h13 A Alpargatas\", {\"entities\": [(13, 18, \"DATA\"), (21, 31, \"ORG\")]}),\n",
    "              (\"31 de julho, o resultado do\", {\"entities\": [(0, 11, \"DATA\")]}),\n",
    "             (\"10 de agosto, foi o dia de\", {\"entities\": [(0, 12, \"DATA\")]}),\n",
    "             (\"às 8h15  Usiminas reporta lucro líquido\", {\"entities\": [(3, 7, \"DATA\"), (9, 17, \"ORG\")]}),\n",
    "             (\"nesta sexta-feira, 30, os resultados do\", {\"entities\": [(6, 17, \"DATA\")]}),\n",
    "             (\"receita líquida trimestral da Usiminas, com alta\", {\"entities\": [(30, 38, \"ORG\")]}),\n",
    "             (\"lucro líquido de R$ 1,2 bilhões. A Usiminas (USIM2) divulgou nesta sexta-feira\", {\"entities\": [(17, 31, \"MONEY\"), (35, 43, \"ORG\"), (67, 78, \"DATA\"), (45,50, \"COD\") ]}),\n",
    "             (\"a companhia registrou lucro líquido de R$ 7,1 bilhões, 277% superior\", {\"entities\": [(39, 53, \"MONEY\")]}),\n",
    "             (\"representando o maior lucro líquido trimestral da Usiminas\", {\"entities\": [(50, 58, \"ORG\")]}),\n",
    "            (\"os investimentos totais da Usiminas, que permanecem em R$111 milhões e R$9.100 milhões, respectivamente\", {\"entities\": [(27, 35, \"ORG\"), (55, 68, \"MONEY\"), (71, 86, \"MONEY\")]}),\n",
    "            (\"A Ambipar Participações e Empreendimentos (AMBP1) informou\", {\"entities\": [(2, 41, \"ORG\"), (43, 48, \"COD\")]}),\n",
    "            (\"A Méliuz (CASH7) informou\", {\"entities\": [(2, 8, \"ORG\"),(10, 15, \"COD\")]}),\n",
    "            (\"A Alter, que possui um time de 24 pessoas\", {\"entities\": [(2, 7, \"ORG\")]}),\n",
    "            (\"primeiro semestre de 2020 um volume de R$ 124 milhões em negociações\", {\"entities\": [(21, 25, \"DATA\"),(39, 53, \"MONEY\")]}),\n",
    "            (\"A Alter é uma empresa\", {\"entities\": [(2, 7, \"ORG\")]}),\n",
    "            (\"contrato com os sócios da Alter Pagamentos para comprar\", {\"entities\": [(26, 31, \"ORG\")]})\n",
    "]"
   ]
  },
  {
   "cell_type": "code",
   "execution_count": null,
   "metadata": {
    "ExecuteTime": {
     "end_time": "2021-08-03T13:20:09.057840Z",
     "start_time": "2021-08-03T13:20:09.027920Z"
    }
   },
   "outputs": [],
   "source": [
    "\"Publicado às 12h13 A Alpargatas\"[21:31]"
   ]
  },
  {
   "cell_type": "code",
   "execution_count": null,
   "metadata": {
    "ExecuteTime": {
     "end_time": "2021-08-03T13:20:09.134636Z",
     "start_time": "2021-08-03T13:20:09.123663Z"
    }
   },
   "outputs": [],
   "source": [
    "for _, annotations in TRAIN_DATA:\n",
    "    for ent in annotations.get(\"entities\"):\n",
    "        ner.add_label(ent[2])"
   ]
  },
  {
   "cell_type": "code",
   "execution_count": null,
   "metadata": {
    "ExecuteTime": {
     "end_time": "2021-08-03T13:21:57.996744Z",
     "start_time": "2021-08-03T13:20:09.204447Z"
    },
    "code_folding": []
   },
   "outputs": [],
   "source": [
    "from spacy.training.example import Example\n",
    "import random\n",
    "\n",
    "for iteration in range(70):\n",
    "\n",
    "    random.shuffle(TRAIN_DATA)\n",
    "    losses = {}\n",
    "    for batch in spacy.util.minibatch(TRAIN_DATA, size=3):\n",
    "        \n",
    "\n",
    "        for text, annotations in batch:\n",
    "            \n",
    "            doc = nlp.make_doc(text)\n",
    "            example = Example.from_dict(doc, annotations)\n",
    "\n",
    "            # atualizando o modelo \n",
    "            nlp.update([example], losses=losses, drop=0.8)\n"
   ]
  },
  {
   "cell_type": "code",
   "execution_count": null,
   "metadata": {
    "ExecuteTime": {
     "end_time": "2021-08-03T13:21:58.090494Z",
     "start_time": "2021-08-03T13:21:58.047610Z"
    }
   },
   "outputs": [],
   "source": [
    "texto = nlp('desta sexta-feira, 30 de julho, o resultado do')\n",
    "displacy.render(texto, style='ent', jupyter=True)"
   ]
  },
  {
   "cell_type": "code",
   "execution_count": null,
   "metadata": {
    "ExecuteTime": {
     "end_time": "2021-08-03T13:21:58.229635Z",
     "start_time": "2021-08-03T13:21:58.147343Z"
    }
   },
   "outputs": [],
   "source": [
    "noticia1 = df['noticia'].iloc[6].split(\"Whatsapp\")[0].strip()\n",
    "texto = nlp(noticia1)\n",
    "displacy.render(texto, style='ent', jupyter=True)"
   ]
  },
  {
   "cell_type": "code",
   "execution_count": null,
   "metadata": {
    "ExecuteTime": {
     "end_time": "2021-08-03T13:28:12.250630Z",
     "start_time": "2021-08-03T13:28:12.232679Z"
    }
   },
   "outputs": [],
   "source": [
    "entidades_noticia = list()\n",
    "for entidade in texto.ents:\n",
    "    t = f\"trexo: {entidade.text}, entidade: {entidade.label_}\"\n",
    "    entidades_noticia.append(t)\n",
    "print(entidades_noticia)"
   ]
  },
  {
   "cell_type": "code",
   "execution_count": null,
   "metadata": {
    "ExecuteTime": {
     "end_time": "2021-08-03T13:21:58.323893Z",
     "start_time": "2021-08-03T13:21:58.300444Z"
    }
   },
   "outputs": [],
   "source": [
    "len(df['noticia'].iloc[1].split(\"Whatsapp\")[0].strip())"
   ]
  },
  {
   "cell_type": "code",
   "execution_count": null,
   "metadata": {},
   "outputs": [],
   "source": []
  },
  {
   "cell_type": "code",
   "execution_count": null,
   "metadata": {},
   "outputs": [],
   "source": []
  },
  {
   "cell_type": "code",
   "execution_count": 1,
   "metadata": {
    "ExecuteTime": {
     "end_time": "2021-08-03T14:24:55.161180Z",
     "start_time": "2021-08-03T14:24:53.691233Z"
    }
   },
   "outputs": [],
   "source": [
    "from extrair import noticias"
   ]
  },
  {
   "cell_type": "code",
   "execution_count": 2,
   "metadata": {
    "ExecuteTime": {
     "end_time": "2021-08-03T14:24:57.550183Z",
     "start_time": "2021-08-03T14:24:55.300097Z"
    }
   },
   "outputs": [],
   "source": [
    "news = noticias()"
   ]
  },
  {
   "cell_type": "code",
   "execution_count": 3,
   "metadata": {
    "ExecuteTime": {
     "end_time": "2021-08-03T14:24:58.026725Z",
     "start_time": "2021-08-03T14:24:57.691546Z"
    }
   },
   "outputs": [
    {
     "data": {
      "text/plain": [
       "[{'titulo': 'JSL compra Transportes Marvel',\n",
       "  'link': 'https://financenews.com.br/2021/08/jsl-compra-transportes-marvel/',\n",
       "  'entidades': [{'trexo': '19h03', 'entidade': 'DATA'},\n",
       "   {'trexo': 'JSL', 'entidade': 'ORG'},\n",
       "   {'trexo': 'JSLG3', 'entidade': 'COD'},\n",
       "   {'trexo': 'segunda-feira', 'entidade': 'DATA'},\n",
       "   {'trexo': 'Transportes', 'entidade': 'ORG'},\n",
       "   {'trexo': 'Marvel', 'entidade': 'ORG'},\n",
       "   {'trexo': 'Riograndense', 'entidade': 'ORG'},\n",
       "   {'trexo': 'Logística', 'entidade': 'ORG'},\n",
       "   {'trexo': 'JSL', 'entidade': 'ORG'}]},\n",
       " {'titulo': 'Petro Rio lucra R$ 304,6 milhões no 2T21',\n",
       "  'link': 'https://financenews.com.br/2021/08/petro-rio-lucra-r-3046-milhoes-no-2t21/',\n",
       "  'entidades': [{'trexo': '19h51', 'entidade': 'DATA'},\n",
       "   {'trexo': 'Petro', 'entidade': 'ORG'},\n",
       "   {'trexo': 'PRIO3', 'entidade': 'ORG'},\n",
       "   {'trexo': 'segunda-feira', 'entidade': 'DATA'},\n",
       "   {'trexo': '2021', 'entidade': 'DATA'},\n",
       "   {'trexo': '2T21', 'entidade': 'DATA'},\n",
       "   {'trexo': 'R$ 304,6 milhões', 'entidade': 'MONEY'},\n",
       "   {'trexo': '2T21', 'entidade': 'DATA'},\n",
       "   {'trexo': 'R$ 76,2 milhões', 'entidade': 'MONEY'},\n",
       "   {'trexo': '2T20', 'entidade': 'DATA'},\n",
       "   {'trexo': 'Ebitda', 'entidade': 'ORG'},\n",
       "   {'trexo': 'R$ 642,9 milhões', 'entidade': 'MONEY'},\n",
       "   {'trexo': 'R$ 1,022 bilhão', 'entidade': 'MONEY'},\n",
       "   {'trexo': 'PetroRio', 'entidade': 'DATA'},\n",
       "   {'trexo': 'Brent', 'entidade': 'ORG'},\n",
       "   {'trexo': 'US$ 69,08 por', 'entidade': 'MONEY'},\n",
       "   {'trexo': '2020', 'entidade': 'DATA'},\n",
       "   {'trexo': 'Confira', 'entidade': 'DATA'}]},\n",
       " {'titulo': 'Copasa tem lucro líquido de R$ 237,1 milhões',\n",
       "  'link': 'https://financenews.com.br/2021/08/copasa-tem-lucro-liquido-de-r-2371-milhoes/',\n",
       "  'entidades': [{'trexo': '18h07', 'entidade': 'DATA'},\n",
       "   {'trexo': 'Companhia', 'entidade': 'ORG'},\n",
       "   {'trexo': 'Saneamento', 'entidade': 'ORG'},\n",
       "   {'trexo': 'Minas', 'entidade': 'ORG'},\n",
       "   {'trexo': 'Copasa', 'entidade': 'ORG'},\n",
       "   {'trexo': 'CSMG3', 'entidade': 'COD'},\n",
       "   {'trexo': 'segunda-feira', 'entidade': 'DATA'},\n",
       "   {'trexo': '2021', 'entidade': 'DATA'},\n",
       "   {'trexo': '2T21', 'entidade': 'DATA'},\n",
       "   {'trexo': 'R$ 237,129 milhões', 'entidade': 'MONEY'},\n",
       "   {'trexo': '2T20', 'entidade': 'DATA'},\n",
       "   {'trexo': 'Ebitda', 'entidade': 'ORG'},\n",
       "   {'trexo': '2020', 'entidade': 'DATA'},\n",
       "   {'trexo': 'R$ 492,37 milhões', 'entidade': 'MONEY'},\n",
       "   {'trexo': '2T21', 'entidade': 'DATA'},\n",
       "   {'trexo': 'R$ 1,30 bilhão', 'entidade': 'MONEY'},\n",
       "   {'trexo': '2T20', 'entidade': 'DATA'},\n",
       "   {'trexo': 'Confira', 'entidade': 'DATA'}]},\n",
       " {'titulo': 'Desktop conclui aquisição da Starnet Telecomunicações',\n",
       "  'link': 'https://financenews.com.br/2021/08/desktop-conclui-aquisicao-da-starnet-telecomunicacoes/',\n",
       "  'entidades': [{'trexo': '18h40', 'entidade': 'DATA'},\n",
       "   {'trexo': 'Desktop', 'entidade': 'ORG'},\n",
       "   {'trexo': 'Desk3', 'entidade': 'COD'},\n",
       "   {'trexo': 'segunda-feira', 'entidade': 'DATA'},\n",
       "   {'trexo': 'Starnet', 'entidade': 'ORG'},\n",
       "   {'trexo': '2021', 'entidade': 'DATA'},\n",
       "   {'trexo': 'R$ 30 milhões', 'entidade': 'MONEY'},\n",
       "   {'trexo': '2021', 'entidade': 'DATA'},\n",
       "   {'trexo': 'Starnet', 'entidade': 'ORG'},\n",
       "   {'trexo': 'Atibaia', 'entidade': 'ORG'},\n",
       "   {'trexo': 'Mairiporã', 'entidade': 'ORG'},\n",
       "   {'trexo': 'Bom Jesus dos', 'entidade': 'MONEY'},\n",
       "   {'trexo': 'Jarinu', 'entidade': 'ORG'},\n",
       "   {'trexo': 'Piracaia', 'entidade': 'ORG'},\n",
       "   {'trexo': 'Nazaré', 'entidade': 'ORG'},\n",
       "   {'trexo': 'Starnet', 'entidade': 'ORG'},\n",
       "   {'trexo': 'Companhia', 'entidade': 'ORG'},\n",
       "   {'trexo': 'R$ 51.532.094,18,', 'entidade': 'MONEY'},\n",
       "   {'trexo': 'R$ 26.147.499,50 será', 'entidade': 'MONEY'},\n",
       "   {'trexo': 'R$ 25.384.594,68 será', 'entidade': 'MONEY'}]},\n",
       " {'titulo': 'Petrobras: FPSO em Mero 4',\n",
       "  'link': 'https://financenews.com.br/2021/08/petrobras-fpso-em-mero-4/',\n",
       "  'entidades': [{'trexo': '19h22', 'entidade': 'DATA'},\n",
       "   {'trexo': 'Petrobras', 'entidade': 'ORG'},\n",
       "   {'trexo': 'Petr4', 'entidade': 'COD'},\n",
       "   {'trexo': 'segunda-feira', 'entidade': 'DATA'},\n",
       "   {'trexo': 'Offshore', 'entidade': 'ORG'},\n",
       "   {'trexo': 'FPSO', 'entidade': 'ORG'},\n",
       "   {'trexo': 'Gusmão', 'entidade': 'ORG'},\n",
       "   {'trexo': 'Mero', 'entidade': 'COD'},\n",
       "   {'trexo': 'Bacia', 'entidade': 'ORG'},\n",
       "   {'trexo': 'Santos', 'entidade': 'ORG'},\n",
       "   {'trexo': 'FPSO', 'entidade': 'ORG'},\n",
       "   {'trexo': 'Mero', 'entidade': 'ORG'},\n",
       "   {'trexo': '2025', 'entidade': 'DATA'},\n",
       "   {'trexo': 'FPSO', 'entidade': 'ORG'},\n",
       "   {'trexo': 'Mero', 'entidade': 'ORG'},\n",
       "   {'trexo': 'Libra', 'entidade': 'DATA'},\n",
       "   {'trexo': 'Petrobras', 'entidade': 'ORG'},\n",
       "   {'trexo': 'Shell', 'entidade': 'ORG'},\n",
       "   {'trexo': 'TotalEnergies', 'entidade': 'ORG'},\n",
       "   {'trexo': 'Brasil', 'entidade': 'ORG'},\n",
       "   {'trexo': 'CNODC Brasil Petróleo', 'entidade': 'MONEY'},\n",
       "   {'trexo': 'Ltda', 'entidade': 'ORG'},\n",
       "   {'trexo': 'CNOOC Petroleum Brasil', 'entidade': 'MONEY'}]},\n",
       " {'titulo': 'Itaú anuncia juros sobre capital; lucro aumenta no 2T21',\n",
       "  'link': 'https://financenews.com.br/2021/08/itau-anuncia-juros-sobre-capital-lucro-aumenta-no-2t21/',\n",
       "  'entidades': [{'trexo': '19h04', 'entidade': 'DATA'},\n",
       "   {'trexo': 'Itaú', 'entidade': 'ORG'},\n",
       "   {'trexo': 'ITUB4', 'entidade': 'COD'},\n",
       "   {'trexo': 'segunda-feira', 'entidade': 'DATA'},\n",
       "   {'trexo': 'R$ 0,10384 por', 'entidade': 'MONEY'},\n",
       "   {'trexo': 'R$ 0,088264 por', 'entidade': 'MONEY'},\n",
       "   {'trexo': '2021', 'entidade': 'DATA'},\n",
       "   {'trexo': 'R$ 2,159 bilhões', 'entidade': 'MONEY'},\n",
       "   {'trexo': 'Lucro', 'entidade': 'COD'},\n",
       "   {'trexo': 'R$ 7,5 bi', 'entidade': 'MONEY'},\n",
       "   {'trexo': 'Itaú', 'entidade': 'ORG'},\n",
       "   {'trexo': 'Unibanco', 'entidade': 'ORG'},\n",
       "   {'trexo': 'ITUB4', 'entidade': 'COD'},\n",
       "   {'trexo': 'R$ 7,560 bilhões', 'entidade': 'MONEY'},\n",
       "   {'trexo': '2021', 'entidade': 'DATA'},\n",
       "   {'trexo': '2T20', 'entidade': 'DATA'},\n",
       "   {'trexo': 'R$ 3,424 bilhões', 'entidade': 'MONEY'},\n",
       "   {'trexo': 'R$ 6,543 bilhões', 'entidade': 'MONEY'},\n",
       "   {'trexo': '2020', 'entidade': 'DATA'},\n",
       "   {'trexo': 'R$ 909,1 bilhões', 'entidade': 'MONEY'},\n",
       "   {'trexo': '2021', 'entidade': 'DATA'},\n",
       "   {'trexo': 'Itaú', 'entidade': 'ORG'},\n",
       "   {'trexo': '2020', 'entidade': 'DATA'},\n",
       "   {'trexo': 'R$ 4,7 bilhões', 'entidade': 'MONEY'},\n",
       "   {'trexo': '2020', 'entidade': 'DATA'},\n",
       "   {'trexo': 'R$ 4,8 bilhões', 'entidade': 'MONEY'},\n",
       "   {'trexo': '2020', 'entidade': 'DATA'}]},\n",
       " {'titulo': 'Enauta vai devolver Bloco CE-M-661 na Bacia do Ceará',\n",
       "  'link': 'https://financenews.com.br/2021/08/enauta-vai-devolver-bloco-ce-m-661-na-bacia-do-ceara/',\n",
       "  'entidades': [{'trexo': '19h30', 'entidade': 'DATA'},\n",
       "   {'trexo': 'Enauta', 'entidade': 'ORG'},\n",
       "   {'trexo': 'ENAT3', 'entidade': 'ORG'},\n",
       "   {'trexo': 'segunda-feira', 'entidade': 'DATA'},\n",
       "   {'trexo': 'Bloco', 'entidade': 'ORG'},\n",
       "   {'trexo': 'CE-M-661', 'entidade': 'DATA'},\n",
       "   {'trexo': 'Bacia', 'entidade': 'ORG'},\n",
       "   {'trexo': 'Ceará', 'entidade': 'ORG'},\n",
       "   {'trexo': 'Agência', 'entidade': 'ORG'},\n",
       "   {'trexo': 'Petróleo', 'entidade': 'ORG'},\n",
       "   {'trexo': 'Natural', 'entidade': 'ORG'},\n",
       "   {'trexo': 'Biocombustíveis', 'entidade': 'ORG'},\n",
       "   {'trexo': 'ANP', 'entidade': 'ORG'},\n",
       "   {'trexo': 'Bloco', 'entidade': 'ORG'},\n",
       "   {'trexo': 'CE-M-661', 'entidade': 'DATA'},\n",
       "   {'trexo': 'Rodada', 'entidade': 'ORG'},\n",
       "   {'trexo': 'Licitações', 'entidade': 'DATA'},\n",
       "   {'trexo': 'ANP', 'entidade': 'ORG'},\n",
       "   {'trexo': '2011', 'entidade': 'DATA'},\n",
       "   {'trexo': 'Baseada em análises', 'entidade': 'MONEY'},\n",
       "   {'trexo': 'Enauta', 'entidade': 'ORG'},\n",
       "   {'trexo': 'Enauta', 'entidade': 'ORG'},\n",
       "   {'trexo': 'PEM', 'entidade': 'ORG'},\n",
       "   {'trexo': 'R$ 26,9 milhões', 'entidade': 'MONEY'},\n",
       "   {'trexo': 'R$ 10,1 milhões', 'entidade': 'MONEY'},\n",
       "   {'trexo': 'R$ 37,0 milhões', 'entidade': 'MONEY'},\n",
       "   {'trexo': '2021', 'entidade': 'DATA'}]},\n",
       " {'titulo': 'Ações da Viver saltam após sentença que determinou fim da recuperação judicial',\n",
       "  'link': 'https://financenews.com.br/2021/08/acoes-da-viver-saltam-apos-sentenca-que-determinou-fim-da-recuperacao-judicial/',\n",
       "  'entidades': [{'trexo': '18h23', 'entidade': 'DATA'},\n",
       "   {'trexo': 'Viver', 'entidade': 'ORG'},\n",
       "   {'trexo': 'VIVR3', 'entidade': 'COD'},\n",
       "   {'trexo': 'segunda-feira', 'entidade': 'DATA'},\n",
       "   {'trexo': 'Vara', 'entidade': 'DATA'},\n",
       "   {'trexo': 'Falências', 'entidade': 'ORG'},\n",
       "   {'trexo': 'Recuperações Judiciais do', 'entidade': 'MONEY'},\n",
       "   {'trexo': 'Foro Central Cível da', 'entidade': 'MONEY'},\n",
       "   {'trexo': 'Comarca', 'entidade': 'DATA'},\n",
       "   {'trexo': 'Capital', 'entidade': 'ORG'},\n",
       "   {'trexo': 'Grupo', 'entidade': 'ORG'},\n",
       "   {'trexo': 'Viver', 'entidade': 'ORG'},\n",
       "   {'trexo': 'Grupo', 'entidade': 'ORG'},\n",
       "   {'trexo': 'Viver', 'entidade': 'ORG'}]},\n",
       " {'titulo': 'Pardini compra laboratório APC',\n",
       "  'link': 'https://financenews.com.br/2021/08/pardini-compra-laboratorio-apc/',\n",
       "  'entidades': [{'trexo': '19h11', 'entidade': 'DATA'},\n",
       "   {'trexo': 'Instituto', 'entidade': 'ORG'},\n",
       "   {'trexo': 'PARD3', 'entidade': 'COD'},\n",
       "   {'trexo': 'APC', 'entidade': 'ORG'},\n",
       "   {'trexo': 'Laboratório', 'entidade': 'ORG'},\n",
       "   {'trexo': 'Anatomia', 'entidade': 'ORG'},\n",
       "   {'trexo': 'Cit', 'entidade': 'DATA'},\n",
       "   {'trexo': 'R$ 19,5 milhões', 'entidade': 'MONEY'},\n",
       "   {'trexo': 'segunda-feira', 'entidade': 'DATA'},\n",
       "   {'trexo': 'APC', 'entidade': 'ORG'},\n",
       "   {'trexo': 'imuno-histoquímica', 'entidade': 'DATA'},\n",
       "   {'trexo': '2020', 'entidade': 'DATA'},\n",
       "   {'trexo': 'R$ 9 milhões', 'entidade': 'MONEY'},\n",
       "   {'trexo': 'Grupo', 'entidade': 'ORG'},\n",
       "   {'trexo': 'Pardini', 'entidade': 'ORG'},\n",
       "   {'trexo': 'Lab-to-Lab.  ', 'entidade': 'MONEY'},\n",
       "   {'trexo': 'imuno-histoquimica', 'entidade': 'DATA'},\n",
       "   {'trexo': 'Rede', 'entidade': 'ORG'},\n",
       "   {'trexo': 'Astro', 'entidade': 'ORG'},\n",
       "   {'trexo': 'Path', 'entidade': 'ORG'}]},\n",
       " {'titulo': 'BRF conclui compra da Hercosul',\n",
       "  'link': 'https://financenews.com.br/2021/08/brf-conclui-compra-da-hercosul/',\n",
       "  'entidades': [{'trexo': '20h02', 'entidade': 'DATA'},\n",
       "   {'trexo': 'BRF', 'entidade': 'ORG'},\n",
       "   {'trexo': 'BRFS3', 'entidade': 'COD'},\n",
       "   {'trexo': 'segunda-feira', 'entidade': 'DATA'},\n",
       "   {'trexo': 'BRF', 'entidade': 'ORG'},\n",
       "   {'trexo': 'Grupo', 'entidade': 'ORG'},\n",
       "   {'trexo': 'Hercosul', 'entidade': 'ORG'},\n",
       "   {'trexo': '2021', 'entidade': 'DATA'},\n",
       "   {'trexo': 'Conselho', 'entidade': 'ORG'},\n",
       "   {'trexo': 'Administrativo', 'entidade': 'ORG'},\n",
       "   {'trexo': 'Defesa Econômica', 'entidade': 'ORG'},\n",
       "   {'trexo': 'Cade', 'entidade': 'DATA'},\n",
       "   {'trexo': 'Mogiana', 'entidade': 'ORG'},\n",
       "   {'trexo': 'BRF', 'entidade': 'ORG'},\n",
       "   {'trexo': 'Mogiana', 'entidade': 'ORG'},\n",
       "   {'trexo': 'Cade', 'entidade': 'DATA'},\n",
       "   {'trexo': 'BRF', 'entidade': 'ORG'},\n",
       "   {'trexo': 'R$ 1,350 bilhão', 'entidade': 'MONEY'},\n",
       "   {'trexo': 'Hercosul', 'entidade': 'ORG'},\n",
       "   {'trexo': 'Mogiana', 'entidade': 'ORG'},\n",
       "   {'trexo': 'BRF', 'entidade': 'ORG'},\n",
       "   {'trexo': 'Visão 2030”', 'entidade': 'MONEY'},\n",
       "   {'trexo': 'BRF', 'entidade': 'ORG'},\n",
       "   {'trexo': '2025', 'entidade': 'DATA'}]},\n",
       " {'titulo': 'Locaweb compra plataforma Octadesk por R$ 102 milhões',\n",
       "  'link': 'https://financenews.com.br/2021/08/locaweb-compra-plataforma-octadesk-por-r-102-milhoes/',\n",
       "  'entidades': [{'trexo': '20h21', 'entidade': 'DATA'},\n",
       "   {'trexo': 'Locaweb', 'entidade': 'ORG'},\n",
       "   {'trexo': 'LWSA3', 'entidade': 'COD'},\n",
       "   {'trexo': 'segunda-feira', 'entidade': 'DATA'},\n",
       "   {'trexo': 'Octadesk', 'entidade': 'ORG'},\n",
       "   {'trexo': 'Octadesk', 'entidade': 'ORG'},\n",
       "   {'trexo': 'R$ 102 milhões', 'entidade': 'MONEY'},\n",
       "   {'trexo': 'Fundada', 'entidade': 'DATA'},\n",
       "   {'trexo': '2015', 'entidade': 'DATA'},\n",
       "   {'trexo': 'São', 'entidade': 'ORG'},\n",
       "   {'trexo': 'Octadesk', 'entidade': 'ORG'},\n",
       "   {'trexo': 'WhatsApp', 'entidade': 'COD'},\n",
       "   {'trexo': 'Instagram', 'entidade': 'ORG'},\n",
       "   {'trexo': 'Octadesk', 'entidade': 'ORG'},\n",
       "   {'trexo': 'ARR', 'entidade': 'COD'},\n",
       "   {'trexo': 'R$ 25 milhões', 'entidade': 'MONEY'},\n",
       "   {'trexo': 'Locaweb', 'entidade': 'ORG'}]},\n",
       " {'titulo': 'Petz compra da Zee.Dog em operação avaliada em mais de R$ 700 milhões',\n",
       "  'link': 'https://financenews.com.br/2021/08/petz-compra-da-zee-dog-em-operacao-avaliada-em-mais-de-r-700-milhoes/',\n",
       "  'entidades': [{'trexo': '8h52', 'entidade': 'DATA'},\n",
       "   {'trexo': 'Petz', 'entidade': 'ORG'},\n",
       "   {'trexo': 'PETZ3', 'entidade': 'COD'},\n",
       "   {'trexo': 'Zee Dog um', 'entidade': 'MONEY'},\n",
       "   {'trexo': 'Zee', 'entidade': 'DATA'},\n",
       "   {'trexo': 'Dog', 'entidade': 'ORG'},\n",
       "   {'trexo': 'terça-feira', 'entidade': 'DATA'},\n",
       "   {'trexo': 'Petz', 'entidade': 'ORG'},\n",
       "   {'trexo': 'Zee', 'entidade': 'DATA'},\n",
       "   {'trexo': 'Dog', 'entidade': 'ORG'},\n",
       "   {'trexo': 'Valor da Empresa', 'entidade': 'MONEY'},\n",
       "   {'trexo': 'Enterprise Value)', 'entidade': 'MONEY'},\n",
       "   {'trexo': 'R$700 milhões', 'entidade': 'MONEY'},\n",
       "   {'trexo': 'Fundada', 'entidade': 'DATA'},\n",
       "   {'trexo': 'Felipe', 'entidade': 'ORG'},\n",
       "   {'trexo': 'Thadeu', 'entidade': 'ORG'},\n",
       "   {'trexo': 'Rodrigo', 'entidade': 'ORG'},\n",
       "   {'trexo': 'Zee', 'entidade': 'DATA'},\n",
       "   {'trexo': 'Dog', 'entidade': 'ORG'},\n",
       "   {'trexo': 'Zee', 'entidade': 'ORG'},\n",
       "   {'trexo': '2021', 'entidade': 'DATA'},\n",
       "   {'trexo': 'Zee', 'entidade': 'DATA'},\n",
       "   {'trexo': 'Dog', 'entidade': 'ORG'},\n",
       "   {'trexo': 'R$ 228 milhões', 'entidade': 'MONEY'},\n",
       "   {'trexo': 'EBITDA', 'entidade': 'COD'},\n",
       "   {'trexo': 'R$ 22 milhões', 'entidade': 'MONEY'},\n",
       "   {'trexo': 'Zee', 'entidade': 'DATA'},\n",
       "   {'trexo': 'Now', 'entidade': 'COD'},\n",
       "   {'trexo': 'Zee', 'entidade': 'DATA'},\n",
       "   {'trexo': 'Brasil', 'entidade': 'ORG'},\n",
       "   {'trexo': 'Pets', 'entidade': 'DATA'},\n",
       "   {'trexo': 'Home', 'entidade': 'ORG'},\n",
       "   {'trexo': 'Reino Unido,', 'entidade': 'MONEY'},\n",
       "   {'trexo': 'Chewy', 'entidade': 'ORG'},\n",
       "   {'trexo': 'Nordstrom', 'entidade': 'ORG'},\n",
       "   {'trexo': 'EUA', 'entidade': 'DATA'},\n",
       "   {'trexo': 'Grupo', 'entidade': 'ORG'},\n",
       "   {'trexo': 'Ser', 'entidade': 'DATA'},\n",
       "   {'trexo': '2025', 'entidade': 'DATA'},\n",
       "   {'trexo': 'Petz', 'entidade': 'ORG'},\n",
       "   {'trexo': 'Zee', 'entidade': 'ORG'},\n",
       "   {'trexo': 'Petz', 'entidade': 'ORG'},\n",
       "   {'trexo': 'Petz', 'entidade': 'ORG'},\n",
       "   {'trexo': 'Zee', 'entidade': 'DATA'},\n",
       "   {'trexo': 'littleBs', 'entidade': 'DATA'},\n",
       "   {'trexo': 'Brasil', 'entidade': 'ORG'},\n",
       "   {'trexo': 'Transação', 'entidade': 'DATA'},\n",
       "   {'trexo': 'Zee', 'entidade': 'DATA'},\n",
       "   {'trexo': 'Dog', 'entidade': 'ORG'},\n",
       "   {'trexo': 'R$700 milhões', 'entidade': 'MONEY'},\n",
       "   {'trexo': 'Valor da Empresa', 'entidade': 'MONEY'},\n",
       "   {'trexo': 'Enterprise Value)', 'entidade': 'MONEY'},\n",
       "   {'trexo': 'Caixa', 'entidade': 'ORG'},\n",
       "   {'trexo': 'R$15 milhões1', 'entidade': 'MONEY'},\n",
       "   {'trexo': 'Valor para o', 'entidade': 'MONEY'},\n",
       "   {'trexo': 'Acionista', 'entidade': 'ORG'},\n",
       "   {'trexo': 'Equity Value', 'entidade': 'ORG'},\n",
       "   {'trexo': 'R$715 milhões', 'entidade': 'MONEY'}]},\n",
       " {'titulo': 'Cyrela: identificação de alteração em ambiente de TI indicando ransomware',\n",
       "  'link': 'https://financenews.com.br/2021/08/cyrela-identificacao-de-alteracao-em-ambiente-de-ti-indicando-ransomware/',\n",
       "  'entidades': [{'trexo': '9h32', 'entidade': 'DATA'},\n",
       "   {'trexo': 'Cyrela', 'entidade': 'ORG'},\n",
       "   {'trexo': 'CYRE3', 'entidade': 'ORG'},\n",
       "   {'trexo': 'terça-feira', 'entidade': 'DATA'},\n",
       "   {'trexo': 'Direito', 'entidade': 'ORG'},\n",
       "   {'trexo': 'Genericamente', 'entidade': 'ORG'}]}]"
      ]
     },
     "execution_count": 3,
     "metadata": {},
     "output_type": "execute_result"
    }
   ],
   "source": [
    "news.main()"
   ]
  },
  {
   "cell_type": "code",
   "execution_count": null,
   "metadata": {},
   "outputs": [],
   "source": []
  },
  {
   "cell_type": "code",
   "execution_count": null,
   "metadata": {},
   "outputs": [],
   "source": []
  },
  {
   "cell_type": "code",
   "execution_count": null,
   "metadata": {},
   "outputs": [],
   "source": []
  },
  {
   "cell_type": "code",
   "execution_count": null,
   "metadata": {
    "ExecuteTime": {
     "end_time": "2021-08-03T14:10:00.780976Z",
     "start_time": "2021-08-03T14:10:00.770004Z"
    }
   },
   "outputs": [],
   "source": [
    "df = news.news"
   ]
  },
  {
   "cell_type": "code",
   "execution_count": null,
   "metadata": {
    "ExecuteTime": {
     "end_time": "2021-08-03T14:10:17.896938Z",
     "start_time": "2021-08-03T14:10:17.876998Z"
    }
   },
   "outputs": [],
   "source": [
    "for posicao in range(df.shape[0]):\n",
    "    content_news = df.iloc[posicao]"
   ]
  },
  {
   "cell_type": "code",
   "execution_count": null,
   "metadata": {
    "ExecuteTime": {
     "end_time": "2021-08-03T14:10:21.235289Z",
     "start_time": "2021-08-03T14:10:21.217347Z"
    }
   },
   "outputs": [],
   "source": [
    "content_news"
   ]
  },
  {
   "cell_type": "code",
   "execution_count": null,
   "metadata": {
    "ExecuteTime": {
     "end_time": "2021-08-03T14:10:40.708918Z",
     "start_time": "2021-08-03T14:10:40.697946Z"
    }
   },
   "outputs": [],
   "source": [
    "news.puxa_noticia(content_news)"
   ]
  },
  {
   "cell_type": "code",
   "execution_count": null,
   "metadata": {
    "ExecuteTime": {
     "end_time": "2021-08-03T14:10:47.921358Z",
     "start_time": "2021-08-03T14:10:47.910386Z"
    }
   },
   "outputs": [],
   "source": [
    "news.puxa_link(content_news)"
   ]
  },
  {
   "cell_type": "code",
   "execution_count": null,
   "metadata": {},
   "outputs": [],
   "source": []
  }
 ],
 "metadata": {
  "hide_input": false,
  "kernelspec": {
   "display_name": "Python 3",
   "language": "python",
   "name": "python3"
  },
  "language_info": {
   "codemirror_mode": {
    "name": "ipython",
    "version": 3
   },
   "file_extension": ".py",
   "mimetype": "text/x-python",
   "name": "python",
   "nbconvert_exporter": "python",
   "pygments_lexer": "ipython3",
   "version": "3.8.5"
  },
  "varInspector": {
   "cols": {
    "lenName": 16,
    "lenType": 16,
    "lenVar": 40
   },
   "kernels_config": {
    "python": {
     "delete_cmd_postfix": "",
     "delete_cmd_prefix": "del ",
     "library": "var_list.py",
     "varRefreshCmd": "print(var_dic_list())"
    },
    "r": {
     "delete_cmd_postfix": ") ",
     "delete_cmd_prefix": "rm(",
     "library": "var_list.r",
     "varRefreshCmd": "cat(var_dic_list()) "
    }
   },
   "types_to_exclude": [
    "module",
    "function",
    "builtin_function_or_method",
    "instance",
    "_Feature"
   ],
   "window_display": false
  }
 },
 "nbformat": 4,
 "nbformat_minor": 4
}
